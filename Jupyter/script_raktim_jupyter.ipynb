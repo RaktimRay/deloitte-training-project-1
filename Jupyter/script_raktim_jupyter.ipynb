{
 "cells": [
  {
   "cell_type": "code",
   "execution_count": 107,
   "id": "2d7f75b5",
   "metadata": {},
   "outputs": [],
   "source": [
    "import seaborn as sns\n",
    "import pandas as pd\n",
    "import numpy as np\n",
    "import matplotlib.pyplot as plt\n",
    "from sklearn import preprocessing\n",
    "import warnings\n",
    "%matplotlib inline\n",
    "from sklearn import tree\n",
    "from sklearn.model_selection import train_test_split # Import train_test_split function\n",
    "from sklearn import metrics\n",
    "from sklearn.tree import DecisionTreeClassifier\n",
    "from sklearn.linear_model import LogisticRegression\n",
    "from sklearn import svm\n",
    "from sklearn.ensemble import RandomForestClassifier\n",
    "from sklearn.neural_network import MLPClassifier\n",
    "from sklearn.metrics import classification_report, plot_confusion_matrix#for visualizing tree\n",
    "from sklearn import svm\n",
    "import datetime\n",
    "warnings.filterwarnings(\"ignore\")"
   ]
  },
  {
   "cell_type": "markdown",
   "id": "9da268a8",
   "metadata": {},
   "source": [
    "**Loading Data**"
   ]
  },
  {
   "cell_type": "code",
   "execution_count": 108,
   "id": "b1f26f1d",
   "metadata": {},
   "outputs": [],
   "source": [
    "data = pd.read_csv(\"C:/Users/rakray/Documents/Deloitte_Training/Code/deloitte-training-project-1/datasets/application_data.csv\")\n",
    "df_application_data = pd.DataFrame(data)\n",
    "data = pd.read_csv(\"C:/Users/rakray/Documents/Deloitte_Training/Code/deloitte-training-project-1/datasets/previous_application.csv\")\n",
    "df_previous_application = pd.DataFrame(data)"
   ]
  },
  {
   "cell_type": "code",
   "execution_count": 109,
   "id": "c6b38f6e",
   "metadata": {},
   "outputs": [
    {
     "data": {
      "text/plain": [
       "0    282686\n",
       "1     24825\n",
       "Name: ad_target_ct, dtype: int64"
      ]
     },
     "execution_count": 109,
     "metadata": {},
     "output_type": "execute_result"
    }
   ],
   "source": [
    "df_application_data[\"ad_target_ct\"].value_counts()"
   ]
  },
  {
   "cell_type": "markdown",
   "id": "d9325f92",
   "metadata": {},
   "source": [
    "**Missing value removal**"
   ]
  },
  {
   "cell_type": "code",
   "execution_count": 110,
   "id": "bc0dc0f5",
   "metadata": {},
   "outputs": [],
   "source": [
    "acceptable_non_NAN_values_fraction = 0.5\n",
    "df_application_data_2 = df_application_data.dropna(axis='columns', how=\"any\", thresh=(1-acceptable_non_NAN_values_fraction)*len(df_application_data.index))\n",
    "df_previous_application_2 = df_previous_application.dropna(axis='columns', how=\"any\", thresh=(1-acceptable_non_NAN_values_fraction)*len(df_previous_application.index))"
   ]
  },
  {
   "cell_type": "code",
   "execution_count": 111,
   "id": "7222f9ab",
   "metadata": {},
   "outputs": [
    {
     "data": {
      "text/plain": [
       "0    282686\n",
       "1     24825\n",
       "Name: ad_target_ct, dtype: int64"
      ]
     },
     "execution_count": 111,
     "metadata": {},
     "output_type": "execute_result"
    }
   ],
   "source": [
    "df_application_data_2[\"ad_target_ct\"].value_counts()"
   ]
  },
  {
   "cell_type": "markdown",
   "id": "154c746d",
   "metadata": {},
   "source": [
    "**NAN value replacement**"
   ]
  },
  {
   "cell_type": "code",
   "execution_count": 112,
   "id": "239a65f8",
   "metadata": {},
   "outputs": [],
   "source": [
    "def NAN_value_replacement(dataframe):\n",
    "    for col in dataframe:\n",
    "        if (dataframe[col].dtype == \"int64\" or dataframe[col].dtype == \"float64\"):\n",
    "            dataframe[col] = dataframe[col].fillna(dataframe[col].median())\n",
    "        elif (dataframe[col].dtype == \"object\"):\n",
    "            dataframe[col] = dataframe[col].fillna(dataframe[col].mode().iloc[0])\n",
    "    return dataframe\n",
    "\n",
    "df_application_data_2 = NAN_value_replacement(df_application_data_2)\n",
    "df_previous_application_2 = NAN_value_replacement(df_previous_application_2)"
   ]
  },
  {
   "cell_type": "code",
   "execution_count": 113,
   "id": "7c84a2b5",
   "metadata": {},
   "outputs": [
    {
     "data": {
      "text/plain": [
       "0    282686\n",
       "1     24825\n",
       "Name: ad_target_ct, dtype: int64"
      ]
     },
     "execution_count": 113,
     "metadata": {},
     "output_type": "execute_result"
    }
   ],
   "source": [
    "df_application_data_2[\"ad_target_ct\"].value_counts()"
   ]
  },
  {
   "cell_type": "markdown",
   "id": "2168782b",
   "metadata": {},
   "source": [
    "**Boxplot**"
   ]
  },
  {
   "cell_type": "code",
   "execution_count": 114,
   "id": "90354312",
   "metadata": {},
   "outputs": [
    {
     "data": {
      "image/png": "[encoded data removed]",
      "text/plain": [
       "<Figure size 720x504 with 1 Axes>"
      ]
     },
     "metadata": {
      "needs_background": "light"
     },
     "output_type": "display_data"
    }
   ],
   "source": [
    "def Boxplot(dataframe, column):\n",
    "    plt.figure(figsize=(10,7))\n",
    "    plt.title(column)\n",
    "    plt.boxplot(dataframe[column])\n",
    "    plt.show()\n",
    "Boxplot(df_application_data_2, \"ad_amt_goods_price_ct\")"
   ]
  },
  {
   "cell_type": "code",
   "execution_count": null,
   "id": "6f96f829",
   "metadata": {},
   "outputs": [],
   "source": []
  },
  {
   "cell_type": "markdown",
   "id": "0a4b8eec",
   "metadata": {},
   "source": [
    "**Numerical Dataframe**"
   ]
  },
  {
   "cell_type": "code",
   "execution_count": 115,
   "id": "dda50a86",
   "metadata": {},
   "outputs": [],
   "source": [
    "def numerical_df(df):\n",
    "    numerical = df.select_dtypes(exclude='object')\n",
    "    return numerical\n",
    "# gettting numerical dfs\n",
    "numerical_df_previous_application = numerical_df(df_previous_application_2)\n",
    "numerical_df_application_data = numerical_df(df_application_data_2)"
   ]
  },
  {
   "cell_type": "code",
   "execution_count": 116,
   "id": "512dba5e",
   "metadata": {
    "scrolled": true
   },
   "outputs": [
    {
     "data": {
      "text/plain": [
       "0    282686\n",
       "1     24825\n",
       "Name: ad_target_ct, dtype: int64"
      ]
     },
     "execution_count": 116,
     "metadata": {},
     "output_type": "execute_result"
    }
   ],
   "source": [
    "df_application_data_2[\"ad_target_ct\"].value_counts()"
   ]
  },
  {
   "cell_type": "markdown",
   "id": "47b4f359",
   "metadata": {},
   "source": [
    "**Removing outliers**"
   ]
  },
  {
   "cell_type": "code",
   "execution_count": 117,
   "id": "2a639111",
   "metadata": {},
   "outputs": [],
   "source": [
    "# Outlier removing function\n",
    "def new_IQR(res_df, numerical_df):\n",
    "#     res_df_new = res_df.copy()\n",
    "    for i in list(numerical_df):\n",
    "        sorted(i)\n",
    "        iqr1 = res_df[i].quantile(0.25)\n",
    "        iqr3 = res_df[i].quantile(0.75)\n",
    "        iqr = iqr3-iqr1\n",
    "        lower_limit = iqr1 - 1.5*iqr\n",
    "        upper_limit = iqr3 + 1.5*iqr\n",
    "        temp_data = res_df[(res_df[i] > lower_limit) & (res_df[i] <upper_limit)]\n",
    "#         print(temp_data)\n",
    "#         print((res_df[i] > lower_limit) & (res_df[i] <upper_limit))\n",
    "        \n",
    "        if temp_data[i].value_counts().shape[0] > 10:\n",
    "            res_df = res_df[(res_df[i] > lower_limit) & (res_df[i] <upper_limit)]\n",
    "#             print(res_df)\n",
    "    return res_df"
   ]
  },
  {
   "cell_type": "code",
   "execution_count": 118,
   "id": "e6b9f294",
   "metadata": {},
   "outputs": [],
   "source": [
    "# Removing outliers\n",
    "df_previous_application_2 = new_IQR(df_previous_application_2, numerical_df_previous_application)\n",
    "df_application_data_2 = new_IQR(df_application_data_2, numerical_df_application_data)"
   ]
  },
  {
   "cell_type": "code",
   "execution_count": 119,
   "id": "3aa15b58",
   "metadata": {},
   "outputs": [
    {
     "data": {
      "text/plain": [
       "0    96712\n",
       "1    11149\n",
       "Name: ad_target_ct, dtype: int64"
      ]
     },
     "execution_count": 119,
     "metadata": {},
     "output_type": "execute_result"
    }
   ],
   "source": [
    "df_application_data_2[\"ad_target_ct\"].value_counts()"
   ]
  },
  {
   "cell_type": "markdown",
   "id": "0181a1e8",
   "metadata": {},
   "source": [
    "**Categorical data**"
   ]
  },
  {
   "cell_type": "code",
   "execution_count": 120,
   "id": "b1209e25",
   "metadata": {},
   "outputs": [],
   "source": [
    "# categorical\n",
    "df_previous_application_2[\"ad_MONTHS_decision_ct\"] = abs(df_previous_application_2[\"ad_days_decision_ct\"])/30\n",
    "bins = [0,1,2,3,4,5,6,7,8,9,np.inf]\n",
    "slots = [\"0-1\",\"1-2\",\"2-3\",\"3-4\",\"4-5\",\"5-6\",\"6-7\",\"7-8\",\"8-9\",\"Above 9\"]\n",
    "df_previous_application_2[\"ad_MONTHS_decision_ct\"] = pd.cut(df_previous_application_2[\"ad_MONTHS_decision_ct\"], bins=bins, labels=slots)\n",
    "\n",
    "df_application_data_2[\"ad_YEARS_birth_ct\"] = abs(df_application_data_2[\"ad_days_birth_ct\"])/365\n",
    "bins = [0,10,20,30,40,50,60,70,80,90,np.inf]\n",
    "slots = [\"0-10\",\"11-20\",\"21-30\",\"31-40\",\"41-50\",\"51-60\",\"61-70\",\"71-80\",\"81-90\",\"Above 90\"]\n",
    "df_application_data_2[\"ad_YEARS_birth_ct\"] = pd.cut(df_application_data_2[\"ad_YEARS_birth_ct\"], bins=bins, labels=slots)"
   ]
  },
  {
   "cell_type": "code",
   "execution_count": 121,
   "id": "32cd61b2",
   "metadata": {
    "scrolled": false
   },
   "outputs": [
    {
     "data": {
      "text/plain": [
       "0    96712\n",
       "1    11149\n",
       "Name: ad_target_ct, dtype: int64"
      ]
     },
     "execution_count": 121,
     "metadata": {},
     "output_type": "execute_result"
    }
   ],
   "source": [
    "df_application_data_2[\"ad_target_ct\"].value_counts()"
   ]
  },
  {
   "cell_type": "markdown",
   "id": "3aea019b",
   "metadata": {},
   "source": [
    "**Encoding**"
   ]
  },
  {
   "cell_type": "code",
   "execution_count": 122,
   "id": "0f99e6ff",
   "metadata": {},
   "outputs": [],
   "source": [
    "# Encoding\n",
    "def encoder(dataframe):\n",
    "    label_encoder = preprocessing.LabelEncoder()\n",
    "    for (columnName, columnData) in dataframe.iteritems():\n",
    "        if columnData.dtypes == \"object\" or columnData.dtype.name == \"category\":\n",
    "            # print(dataframe[columnName].dtypes)\n",
    "            dataframe[columnName] = label_encoder.fit_transform(dataframe[columnName])\n",
    "    return dataframe\n",
    "\n",
    "# df_previous_application_2 = encoder(df_previous_application_2)\n",
    "# df_application_data_2 = encoder(df_application_data_2)"
   ]
  },
  {
   "cell_type": "code",
   "execution_count": 123,
   "id": "6efc3160",
   "metadata": {},
   "outputs": [
    {
     "data": {
      "text/plain": [
       "0    96712\n",
       "1    11149\n",
       "Name: ad_target_ct, dtype: int64"
      ]
     },
     "execution_count": 123,
     "metadata": {},
     "output_type": "execute_result"
    }
   ],
   "source": [
    "df_application_data_2[\"ad_target_ct\"].value_counts()"
   ]
  },
  {
   "cell_type": "markdown",
   "id": "d8b6cf05",
   "metadata": {},
   "source": [
    "**Feature Selection**"
   ]
  },
  {
   "cell_type": "code",
   "execution_count": 124,
   "id": "ff100391",
   "metadata": {},
   "outputs": [],
   "source": [
    "# Feature Selection - Correlation Coefficient\n",
    "def corr_co(name, dataframe, thresh, plot_visibility):\n",
    "    corr_matrix = dataframe.corr()\n",
    "    if (plot_visibility):\n",
    "        sns.heatmap(corr_matrix,annot=True,cmap=plt.cm.CMRmap_r)\n",
    "        plt.show()\n",
    "\n",
    "    coll_corr = []\n",
    "    threshold = thresh\n",
    "\n",
    "    flag = 0\n",
    "\n",
    "    for i in range(len(corr_matrix.columns)):\n",
    "        for j in range(i):\n",
    "            if abs(corr_matrix.iloc[i,j]) > threshold:\n",
    "                colname = corr_matrix.columns[i]\n",
    "                if colname not in coll_corr and flag > 0:\n",
    "                    coll_corr.append(colname)\n",
    "                    # print(colname)\n",
    "                flag+=1\n",
    "    # print (\"\\n\\n\")\n",
    "    return coll_corr\n",
    "\n",
    "# calling correlation coefficient function\n",
    "corr_matrix_previous_application = corr_co(\"previous_application.csv\", df_previous_application_2, 0.85, False)\n",
    "corr_matrix_application_data = corr_co(\"current_application\", df_application_data_2, 0.85, False)"
   ]
  },
  {
   "cell_type": "code",
   "execution_count": 125,
   "id": "7b9aae58",
   "metadata": {},
   "outputs": [],
   "source": [
    "# drop the columns obtained from coefficient function\n",
    "df_previous_application_2_dropped = df_previous_application_2.drop(labels=corr_matrix_previous_application, inplace=False, axis=1)\n",
    "df_application_data_2_dropped = df_application_data_2.drop(labels=corr_matrix_application_data, inplace=False, axis=1)"
   ]
  },
  {
   "cell_type": "code",
   "execution_count": 126,
   "id": "9c25ebab",
   "metadata": {},
   "outputs": [
    {
     "data": {
      "text/plain": [
       "0    96712\n",
       "1    11149\n",
       "Name: ad_target_ct, dtype: int64"
      ]
     },
     "execution_count": 126,
     "metadata": {},
     "output_type": "execute_result"
    }
   ],
   "source": [
    "df_application_data_2[\"ad_target_ct\"].value_counts()"
   ]
  },
  {
   "cell_type": "code",
   "execution_count": 127,
   "id": "d9567143",
   "metadata": {},
   "outputs": [
    {
     "data": {
      "text/plain": [
       "0    96712\n",
       "1    11149\n",
       "Name: ad_target_ct, dtype: int64"
      ]
     },
     "execution_count": 127,
     "metadata": {},
     "output_type": "execute_result"
    }
   ],
   "source": [
    "df_application_data_2_dropped[\"ad_target_ct\"].value_counts()"
   ]
  },
  {
   "cell_type": "markdown",
   "id": "f8ba3d5e",
   "metadata": {},
   "source": [
    "**Merge**"
   ]
  },
  {
   "cell_type": "code",
   "execution_count": 128,
   "id": "3d8e4664",
   "metadata": {},
   "outputs": [],
   "source": [
    "# merge\n",
    "merged_dataframe = pd.merge(df_application_data_2, df_previous_application_2, how='inner', on='ad_sk_id_curr_ct')\n",
    "today = datetime.datetime.today().strftime('%d-%m-%Y')\n",
    "merged_dataframe.to_csv(f'raktim-cleaned-data-{today}.csv', index=False)"
   ]
  },
  {
   "cell_type": "markdown",
   "id": "ce39d08b",
   "metadata": {},
   "source": [
    "**Creating table schema for redshift from dataframe**"
   ]
  },
  {
   "cell_type": "code",
   "execution_count": 129,
   "id": "d227fb90",
   "metadata": {},
   "outputs": [
    {
     "name": "stdout",
     "output_type": "stream",
     "text": [
      "create table sample (\n",
      "ad_sk_id_curr_ct int,\n",
      "ad_target_ct int,\n",
      "ad_name_contract_type_ct_x varchar(100),\n",
      "ad_code_gender_ct varchar(100),\n",
      "ad_flag_own_car_ct varchar(100),\n",
      "ad_flag_own_realty_ct varchar(100),\n",
      "ad_cnt_children_ct int,\n",
      "ad_amt_income_total_ct float,\n",
      "ad_amt_credit_ct_x float,\n",
      "ad_amt_annuity_ct_x float,\n",
      "ad_amt_goods_price_ct_x float,\n",
      "ad_name_type_suite_ct_x varchar(100),\n",
      "ad_name_income_type_ct varchar(100),\n",
      "ad_name_education_type_ct varchar(100),\n",
      "ad_name_family_status_ct varchar(100),\n",
      "ad_name_housing_type_ct varchar(100),\n",
      "ad_region_population_relative_ct float,\n",
      "ad_days_birth_ct int,\n",
      "ad_days_employed_ct int,\n",
      "ad_days_registration_ct float,\n",
      "ad_days_id_publish_ct int,\n",
      "ad_flag_mobil_ct int,\n",
      "ad_flag_emp_phone_ct int,\n",
      "ad_flag_work_phone_ct int,\n",
      "ad_flag_cont_mobile_ct int,\n",
      "ad_flag_phone_ct int,\n",
      "ad_flag_email_ct int,\n",
      "ad_occupation_type_ct varchar(100),\n",
      "ad_cnt_fam_members_ct float,\n",
      "ad_region_rating_client_ct int,\n",
      "ad_region_rating_client_w_city_ct int,\n",
      "ad_weekday_appr_process_start_ct_x varchar(100),\n",
      "ad_hour_appr_process_start_ct_x int,\n",
      "ad_reg_region_not_live_region_ct int,\n",
      "ad_reg_region_not_work_region_ct int,\n",
      "ad_live_region_not_work_region_ct int,\n",
      "ad_reg_city_not_live_city_ct int,\n",
      "ad_reg_city_not_work_city_ct int,\n",
      "ad_live_city_not_work_city_ct int,\n",
      "ad_organization_type_ct varchar(100),\n",
      "ad_ext_source_2_ct float,\n",
      "ad_ext_source_3_ct float,\n",
      "ad_years_beginexpluatation_avg_ct float,\n",
      "ad_floorsmax_avg_ct float,\n",
      "ad_years_beginexpluatation_mode_ct float,\n",
      "ad_floorsmax_mode_ct float,\n",
      "ad_years_beginexpluatation_medi_ct float,\n",
      "ad_floorsmax_medi_ct float,\n",
      "ad_totalarea_mode_ct float,\n",
      "ad_emergencystate_mode_ct varchar(100),\n",
      "ad_obs_30_cnt_social_circle_ct float,\n",
      "ad_def_30_cnt_social_circle_ct float,\n",
      "ad_obs_60_cnt_social_circle_ct float,\n",
      "ad_def_60_cnt_social_circle_ct float,\n",
      "ad_days_last_phone_change_ct float,\n",
      "ad_flag_document_2_ct int,\n",
      "ad_flag_document_3_ct int,\n",
      "ad_flag_document_4_ct int,\n",
      "ad_flag_document_5_ct int,\n",
      "ad_flag_document_6_ct int,\n",
      "ad_flag_document_7_ct int,\n",
      "ad_flag_document_8_ct int,\n",
      "ad_flag_document_9_ct int,\n",
      "ad_flag_document_10_ct int,\n",
      "ad_flag_document_11_ct int,\n",
      "ad_flag_document_12_ct int,\n",
      "ad_flag_document_13_ct int,\n",
      "ad_flag_document_14_ct int,\n",
      "ad_flag_document_15_ct int,\n",
      "ad_flag_document_16_ct int,\n",
      "ad_flag_document_17_ct int,\n",
      "ad_flag_document_18_ct int,\n",
      "ad_flag_document_19_ct int,\n",
      "ad_flag_document_20_ct int,\n",
      "ad_flag_document_21_ct int,\n",
      "ad_amt_req_credit_bureau_hour_ct float,\n",
      "ad_amt_req_credit_bureau_day_ct float,\n",
      "ad_amt_req_credit_bureau_week_ct float,\n",
      "ad_amt_req_credit_bureau_mon_ct float,\n",
      "ad_amt_req_credit_bureau_qrt_ct float,\n",
      "ad_amt_req_credit_bureau_year_ct float,\n",
      "ad_YEARS_birth_ct varchar(100),\n",
      "ad_sk_id_prev _ct int,\n",
      "ad_name_contract_type_ct_y varchar(100),\n",
      "ad_amt_annuity_ct_y float,\n",
      "ad_amt_application_ct float,\n",
      "ad_amt_credit_ct_y float,\n",
      "ad_amt_goods_price_ct_y float,\n",
      "ad_weekday_appr_process_start_ct_y varchar(100),\n",
      "ad_hour_appr_process_start_ct_y int,\n",
      "ad_flag_last_appl_per_contract_ct varchar(100),\n",
      "ad_nflag_last_appl_in_day_ct int,\n",
      "ad_name_cash_loan_purpose_ct varchar(100),\n",
      "ad_name_contract_status_ct varchar(100),\n",
      "ad_days_decision_ct int,\n",
      "ad_name_payment_type_ct varchar(100),\n",
      "ad_code_reject_reason_ct varchar(100),\n",
      "ad_name_type_suite_ct_y varchar(100),\n",
      "ad_name_client_type_ct varchar(100),\n",
      "ad_name_goods_category_ct varchar(100),\n",
      "ad_name_portfolio_ct varchar(100),\n",
      "ad_name_product_type_ct varchar(100),\n",
      "ad_channel_type_ct varchar(100),\n",
      "ad_sellerplace_area_ct int,\n",
      "ad_name_seller_industry_ct varchar(100),\n",
      "ad_cnt_payment_ct float,\n",
      "ad_name_yield_group_ct varchar(100),\n",
      "ad_product_combination_ct varchar(100),\n",
      "ad_days_first_drawing_ct float,\n",
      "ad_days_first_due_ct float,\n",
      "ad_days_last_due_1st_version_ct float,\n",
      "ad_days_last_due_ct float,\n",
      "ad_days_termination_ct float,\n",
      "ad_nflag_insured_on_approval_ct float,\n",
      "ad_MONTHS_decision_ct varchar(100),\n",
      ");\n"
     ]
    }
   ],
   "source": [
    "print(\"create table sample (\")\n",
    "output = \"\"\n",
    "for i in merged_dataframe.columns:\n",
    "    datatype = merged_dataframe[i].dtypes\n",
    "    if datatype == 'int64':\n",
    "        output = 'int'\n",
    "    elif datatype == 'float64':\n",
    "        output = 'float'\n",
    "    else:\n",
    "        output = 'varchar(100)'\n",
    "    print(i+\" \"+output+\",\")\n",
    "print(\");\")"
   ]
  },
  {
   "cell_type": "code",
   "execution_count": 130,
   "id": "c16795f5",
   "metadata": {},
   "outputs": [],
   "source": [
    "# merged_dataframe.dtypes\n",
    "# merged_dataframe.info(verbose=True)"
   ]
  },
  {
   "cell_type": "markdown",
   "id": "70de5b31",
   "metadata": {},
   "source": [
    "**Univariate**"
   ]
  },
  {
   "cell_type": "code",
   "execution_count": 131,
   "id": "11d68535",
   "metadata": {},
   "outputs": [],
   "source": [
    "# sample\n",
    "def data_type(dataset,col):\n",
    "    if dataset[col].dtype == np.int64 or dataset[col].dtype == np.float64 or dataset[col].dtype == np.int32:\n",
    "        return \"numerical\"\n",
    "    if dataset[col].dtype == \"object\":\n",
    "        return \"categorical\"\n",
    "\n",
    "def univariate(dataset,col,target_col,ylog=False,x_label_angle=False,h_layout=True):\n",
    "    if data_type(dataset,col) == \"numerical\":\n",
    "        sns.distplot(dataset[col],hist=False)\n",
    "        \n",
    "        \n",
    "    elif data_type(dataset,col) == \"categorical\":\n",
    "        val_count = dataset[col].value_counts()\n",
    "        df1 = pd.DataFrame({col: val_count.index,'count': val_count.values})\n",
    "        \n",
    "        \n",
    "        target_1_percentage = dataset[[col, target_col]].groupby([col],as_index=False).mean()\n",
    "        target_1_percentage[target_col] = target_1_percentage[target_col]*100\n",
    "        target_1_percentage.sort_values(by=target_col,inplace = True)\n",
    "\n",
    "# If the plot is not readable, use the log scale\n",
    "\n",
    "        if(h_layout):\n",
    "            fig, (ax1, ax2) = plt.subplots(ncols=2, figsize=(15,7))\n",
    "        else:\n",
    "            fig, (ax1, ax2) = plt.subplots(nrows=2, figsize=(25,35))\n",
    "              \n",
    "        \n",
    "# 1. Subplot 1: Count plot of the column\n",
    "        \n",
    "        \n",
    "        s = sns.countplot(ax=ax1, x=col, data=dataset, hue=target_col)\n",
    "        s.set_xticklabels(s.get_xticklabels(), rotation=45)\n",
    "        ax1.set_title(col, fontsize = 20)\n",
    "        ax1.legend(['Repayer','Defaulter'])\n",
    "        ax1.set_xlabel(col,fontdict={'fontsize' : 15, 'fontweight' : 3})\n",
    "        \n",
    "        if(x_label_angle):\n",
    "            s.set_xticklabels(s.get_xticklabels(),rotation=75)\n",
    "        \n",
    "# 2. Subplot 2: Percentage of defaulters within the column\n",
    "        \n",
    "        s = sns.barplot(ax=ax2, x = col, y=target_col, data=target_1_percentage)\n",
    "        ax2.set_title(\"Defaulters % in \"+col, fontsize = 20)    \n",
    "        ax2.set_xlabel(col,fontdict={'fontsize' : 15, 'fontweight' : 3})\n",
    "        ax2.set_ylabel(target_col,fontdict={'fontsize' : 15, 'fontweight' : 3})\n",
    "        \n",
    "        if(x_label_angle):\n",
    "            s.set_xticklabels(s.get_xticklabels(),rotation=75)\n",
    "            \n",
    "            \n",
    "# If the plot is not readable, use the log scale\n",
    "                \n",
    "        if ylog:\n",
    "            ax1.set_yscale('log')\n",
    "            ax1.set_ylabel(\"Count (log)\",fontdict={'fontsize' : 15, 'fontweight' : 3})\n",
    "        else:\n",
    "            ax1.set_ylabel(\"Count\",fontdict={'fontsize' : 15, 'fontweight' : 3})\n",
    "\n",
    "        plt.xticks(rotation = 45)\n",
    "        plt.show()"
   ]
  },
  {
   "cell_type": "code",
   "execution_count": 132,
   "id": "575f92d1",
   "metadata": {},
   "outputs": [
    {
     "data": {
      "image/png": "[encoded data removed]",
      "text/plain": [
       "<Figure size 1080x504 with 2 Axes>"
      ]
     },
     "metadata": {
      "needs_background": "light"
     },
     "output_type": "display_data"
    }
   ],
   "source": [
    "# Univariate call\n",
    "univariate(df_application_data_2_dropped, \"ad_code_gender_ct\", \"ad_target_ct\")"
   ]
  },
  {
   "cell_type": "code",
   "execution_count": 133,
   "id": "672ef56c",
   "metadata": {},
   "outputs": [
    {
     "data": {
      "image/png": "[encoded data removed]",
      "text/plain": [
       "<Figure size 1080x504 with 2 Axes>"
      ]
     },
     "metadata": {
      "needs_background": "light"
     },
     "output_type": "display_data"
    }
   ],
   "source": [
    "univariate(df_application_data_2_dropped, \"ad_name_education_type_ct\", \"ad_target_ct\")"
   ]
  },
  {
   "cell_type": "markdown",
   "id": "4442ae2a",
   "metadata": {},
   "source": [
    "**Insights**"
   ]
  },
  {
   "cell_type": "code",
   "execution_count": 134,
   "id": "ad37643f",
   "metadata": {},
   "outputs": [
    {
     "name": "stdout",
     "output_type": "stream",
     "text": [
      "\n",
      "Insight dataframe - 1: Education Type\n",
      "\n",
      "    ad_sk_id_curr_ct  ad_target_ct      ad_name_education_type_ct\n",
      "2             100004             0  Secondary / secondary special\n",
      "3             100006             0  Secondary / secondary special\n",
      "4             100007             0  Secondary / secondary special\n",
      "5             100008             0  Secondary / secondary special\n",
      "10            100014             0               Higher education\n"
     ]
    },
    {
     "data": {
      "text/plain": [
       "[Text(0, 0, 'Secondary / secondary special'),\n",
       " Text(1, 0, 'Higher education'),\n",
       " Text(2, 0, 'Incomplete higher'),\n",
       " Text(3, 0, 'Lower secondary'),\n",
       " Text(4, 0, 'Academic degree')]"
      ]
     },
     "execution_count": 134,
     "metadata": {},
     "output_type": "execute_result"
    },
    {
     "data": {
      "image/png": "[encoded data removed]",
      "text/plain": [
       "<Figure size 432x288 with 1 Axes>"
      ]
     },
     "metadata": {},
     "output_type": "display_data"
    }
   ],
   "source": [
    "# Insight dataframe 1\n",
    "insight_df_1 = df_application_data_2[[\"ad_sk_id_curr_ct\", \"ad_target_ct\", \"ad_name_education_type_ct\"]]\n",
    "print(\"\\nInsight dataframe - 1: Education Type\\n\")\n",
    "print(insight_df_1.head())\n",
    "col = 'ad_name_education_type_ct'\n",
    "target_col = 'ad_target_ct'\n",
    "sns.set()\n",
    "s = sns.countplot(insight_df_1[col],hue=insight_df_1[target_col])\n",
    "s.set_xticklabels(s.get_xticklabels(), rotation=45)"
   ]
  },
  {
   "cell_type": "code",
   "execution_count": 135,
   "id": "7b8c75c6",
   "metadata": {},
   "outputs": [
    {
     "name": "stdout",
     "output_type": "stream",
     "text": [
      "\n",
      "Insight dataframe - 2: Housing Type\n",
      "\n",
      "    ad_sk_id_curr_ct  ad_target_ct ad_name_housing_type_ct\n",
      "2             100004             0       House / apartment\n",
      "3             100006             0       House / apartment\n",
      "4             100007             0       House / apartment\n",
      "5             100008             0       House / apartment\n",
      "10            100014             0       House / apartment\n"
     ]
    },
    {
     "data": {
      "text/plain": [
       "[Text(0, 0, 'House / apartment'),\n",
       " Text(1, 0, 'Rented apartment'),\n",
       " Text(2, 0, 'Municipal apartment'),\n",
       " Text(3, 0, 'With parents'),\n",
       " Text(4, 0, 'Office apartment'),\n",
       " Text(5, 0, 'Co-op apartment')]"
      ]
     },
     "execution_count": 135,
     "metadata": {},
     "output_type": "execute_result"
    },
    {
     "data": {
      "image/png": "[encoded data removed]",
      "text/plain": [
       "<Figure size 432x288 with 1 Axes>"
      ]
     },
     "metadata": {},
     "output_type": "display_data"
    }
   ],
   "source": [
    "# Insight dataframe 2\n",
    "insight_df_2 = df_application_data_2[[\"ad_sk_id_curr_ct\", \"ad_target_ct\", \"ad_name_housing_type_ct\"]]\n",
    "print(\"\\nInsight dataframe - 2: Housing Type\\n\")\n",
    "print(insight_df_2.head())\n",
    "col = 'ad_name_housing_type_ct'\n",
    "target_col = 'ad_target_ct'\n",
    "sns.set()\n",
    "s = sns.countplot(insight_df_2[col],hue=insight_df_2[target_col])\n",
    "s.set_xticklabels(s.get_xticklabels(), rotation=45)"
   ]
  },
  {
   "cell_type": "code",
   "execution_count": 136,
   "id": "3fa8f1c7",
   "metadata": {},
   "outputs": [
    {
     "name": "stdout",
     "output_type": "stream",
     "text": [
      "\n",
      "Insight dataframe - 3: Occupation Type\n",
      "\n",
      "    ad_sk_id_curr_ct  ad_target_ct ad_occupation_type_ct\n",
      "2             100004             0              Laborers\n",
      "3             100006             0              Laborers\n",
      "4             100007             0            Core staff\n",
      "5             100008             0              Laborers\n",
      "10            100014             0            Core staff\n"
     ]
    },
    {
     "data": {
      "text/plain": [
       "[Text(0, 0, 'Laborers'),\n",
       " Text(1, 0, 'Core staff'),\n",
       " Text(2, 0, 'Drivers'),\n",
       " Text(3, 0, 'Sales staff'),\n",
       " Text(4, 0, 'Private service staff'),\n",
       " Text(5, 0, 'Medicine staff'),\n",
       " Text(6, 0, 'Cooking staff'),\n",
       " Text(7, 0, 'Managers'),\n",
       " Text(8, 0, 'Waiters/barmen staff'),\n",
       " Text(9, 0, 'Low-skill Laborers'),\n",
       " Text(10, 0, 'High skill tech staff'),\n",
       " Text(11, 0, 'Security staff'),\n",
       " Text(12, 0, 'Cleaning staff'),\n",
       " Text(13, 0, 'Accountants'),\n",
       " Text(14, 0, 'Secretaries'),\n",
       " Text(15, 0, 'HR staff'),\n",
       " Text(16, 0, 'Realty agents'),\n",
       " Text(17, 0, 'IT staff')]"
      ]
     },
     "execution_count": 136,
     "metadata": {},
     "output_type": "execute_result"
    },
    {
     "data": {
      "image/png": "[encoded data removed]",
      "text/plain": [
       "<Figure size 432x288 with 1 Axes>"
      ]
     },
     "metadata": {},
     "output_type": "display_data"
    }
   ],
   "source": [
    "# Insight dataframe 3\n",
    "insight_df_3 = df_application_data_2[[\"ad_sk_id_curr_ct\", \"ad_target_ct\", \"ad_occupation_type_ct\"]]\n",
    "print(\"\\nInsight dataframe - 3: Occupation Type\\n\")\n",
    "print(insight_df_3.head())\n",
    "col = 'ad_occupation_type_ct'\n",
    "target_col = 'ad_target_ct'\n",
    "sns.set()\n",
    "s = sns.countplot(insight_df_3[col],hue=insight_df_3[target_col])\n",
    "s.set_xticklabels(s.get_xticklabels(), rotation=45)"
   ]
  },
  {
   "cell_type": "markdown",
   "id": "86ffef19",
   "metadata": {},
   "source": [
    "**Encoding before machine learning**"
   ]
  },
  {
   "cell_type": "code",
   "execution_count": 137,
   "id": "f4259a94",
   "metadata": {},
   "outputs": [],
   "source": [
    "merged_dataframe = encoder(merged_dataframe)"
   ]
  },
  {
   "cell_type": "code",
   "execution_count": 138,
   "id": "72fe5e31",
   "metadata": {},
   "outputs": [],
   "source": [
    "target_column = \"ad_target_ct\"\n",
    "df1 = merged_dataframe.drop(target_column, 1)\n",
    "df1 = df1.loc[:, ~df1.columns.str.contains('^Unnamed')]\n",
    "feature_columns = list(df1)\n",
    "\n",
    "X = merged_dataframe[feature_columns]\n",
    "Y = merged_dataframe[target_column]\n",
    "X_train, X_test, y_train, y_test = train_test_split(X, Y, test_size=0.2, random_state=1) # 80% training and 20% test"
   ]
  },
  {
   "cell_type": "markdown",
   "id": "3cd080e1",
   "metadata": {},
   "source": [
    "**Binary classification**"
   ]
  },
  {
   "cell_type": "code",
   "execution_count": 139,
   "id": "6809e710",
   "metadata": {},
   "outputs": [
    {
     "name": "stdout",
     "output_type": "stream",
     "text": [
      "Report - \n",
      "               precision    recall  f1-score   support\n",
      "\n",
      "           0       0.96      0.95      0.95     20302\n",
      "           1       0.62      0.66      0.64      2561\n",
      "\n",
      "    accuracy                           0.92     22863\n",
      "   macro avg       0.79      0.81      0.80     22863\n",
      "weighted avg       0.92      0.92      0.92     22863\n",
      "\n"
     ]
    }
   ],
   "source": [
    "# Decision Tree classifer\n",
    "clf = DecisionTreeClassifier()\n",
    "clf = clf.fit(X_train,y_train)\n",
    "y_pred = clf.predict(X_test)\n",
    "print(\"Report - \\n\", classification_report(y_test,y_pred))"
   ]
  },
  {
   "cell_type": "code",
   "execution_count": 140,
   "id": "101f0945",
   "metadata": {},
   "outputs": [
    {
     "name": "stdout",
     "output_type": "stream",
     "text": [
      "Report - \n",
      "               precision    recall  f1-score   support\n",
      "\n",
      "           0       0.89      1.00      0.94     20302\n",
      "           1       0.00      0.00      0.00      2561\n",
      "\n",
      "    accuracy                           0.89     22863\n",
      "   macro avg       0.44      0.50      0.47     22863\n",
      "weighted avg       0.79      0.89      0.84     22863\n",
      "\n"
     ]
    }
   ],
   "source": [
    "# Logisitic Regression\n",
    "clf = LogisticRegression()\n",
    "clf = clf.fit(X_train,y_train)\n",
    "y_pred = clf.predict(X_test)\n",
    "print(\"Report - \\n\", classification_report(y_test,y_pred))"
   ]
  },
  {
   "cell_type": "code",
   "execution_count": 141,
   "id": "848cca97",
   "metadata": {},
   "outputs": [
    {
     "name": "stdout",
     "output_type": "stream",
     "text": [
      "Report - \n",
      "               precision    recall  f1-score   support\n",
      "\n",
      "           0       0.89      1.00      0.94     20302\n",
      "           1       0.00      0.00      0.00      2561\n",
      "\n",
      "    accuracy                           0.89     22863\n",
      "   macro avg       0.44      0.50      0.47     22863\n",
      "weighted avg       0.79      0.89      0.84     22863\n",
      "\n"
     ]
    }
   ],
   "source": [
    "# Support Vector Machines\n",
    "clf = svm.LinearSVC()\n",
    "clf = clf.fit(X_train,y_train)\n",
    "y_pred = clf.predict(X_test)\n",
    "print(\"Report - \\n\", classification_report(y_test,y_pred))"
   ]
  },
  {
   "cell_type": "code",
   "execution_count": 142,
   "id": "5d46fbf0",
   "metadata": {},
   "outputs": [
    {
     "name": "stdout",
     "output_type": "stream",
     "text": [
      "Report - \n",
      "               precision    recall  f1-score   support\n",
      "\n",
      "           0       0.93      1.00      0.96     20302\n",
      "           1       1.00      0.40      0.57      2561\n",
      "\n",
      "    accuracy                           0.93     22863\n",
      "   macro avg       0.96      0.70      0.77     22863\n",
      "weighted avg       0.94      0.93      0.92     22863\n",
      "\n"
     ]
    }
   ],
   "source": [
    "# Random Forest Classifier\n",
    "clf = RandomForestClassifier()\n",
    "clf = clf.fit(X_train,y_train)\n",
    "y_pred = clf.predict(X_test)\n",
    "print(\"Report - \\n\", classification_report(y_test,y_pred))"
   ]
  },
  {
   "cell_type": "code",
   "execution_count": 143,
   "id": "cc328e1d",
   "metadata": {},
   "outputs": [
    {
     "name": "stdout",
     "output_type": "stream",
     "text": [
      "Report - \n",
      "               precision    recall  f1-score   support\n",
      "\n",
      "           0       0.89      1.00      0.94     20302\n",
      "           1       0.12      0.00      0.00      2561\n",
      "\n",
      "    accuracy                           0.89     22863\n",
      "   macro avg       0.51      0.50      0.47     22863\n",
      "weighted avg       0.80      0.89      0.84     22863\n",
      "\n"
     ]
    }
   ],
   "source": [
    "# Neural Networks\n",
    "clf = MLPClassifier()\n",
    "clf = clf.fit(X_train,y_train)\n",
    "y_pred = clf.predict(X_test)\n",
    "print(\"Report - \\n\", classification_report(y_test,y_pred))"
   ]
  },
  {
   "cell_type": "code",
   "execution_count": null,
   "id": "9fd5e7e4",
   "metadata": {},
   "outputs": [],
   "source": []
  },
  {
   "cell_type": "code",
   "execution_count": null,
   "id": "de9a15ac",
   "metadata": {},
   "outputs": [],
   "source": []
  },
  {
   "cell_type": "code",
   "execution_count": null,
   "id": "66238f51",
   "metadata": {},
   "outputs": [],
   "source": []
  },
  {
   "cell_type": "code",
   "execution_count": null,
   "id": "597a697a",
   "metadata": {},
   "outputs": [],
   "source": []
  },
  {
   "cell_type": "code",
   "execution_count": null,
   "id": "2184a4ba",
   "metadata": {},
   "outputs": [],
   "source": []
  },
  {
   "cell_type": "code",
   "execution_count": null,
   "id": "fc976e82",
   "metadata": {},
   "outputs": [],
   "source": []
  },
  {
   "cell_type": "code",
   "execution_count": null,
   "id": "4d8122a9",
   "metadata": {},
   "outputs": [],
   "source": []
  },
  {
   "cell_type": "code",
   "execution_count": null,
   "id": "a22121be",
   "metadata": {},
   "outputs": [],
   "source": []
  },
  {
   "cell_type": "code",
   "execution_count": null,
   "id": "b3242b5d",
   "metadata": {},
   "outputs": [],
   "source": []
  },
  {
   "cell_type": "code",
   "execution_count": null,
   "id": "c20b591f",
   "metadata": {},
   "outputs": [],
   "source": []
  },
  {
   "cell_type": "code",
   "execution_count": null,
   "id": "9ad853d2",
   "metadata": {},
   "outputs": [],
   "source": []
  },
  {
   "cell_type": "code",
   "execution_count": null,
   "id": "ef780642",
   "metadata": {},
   "outputs": [],
   "source": []
  },
  {
   "cell_type": "code",
   "execution_count": null,
   "id": "caf55e7f",
   "metadata": {},
   "outputs": [],
   "source": []
  },
  {
   "cell_type": "code",
   "execution_count": null,
   "id": "4b7b4533",
   "metadata": {},
   "outputs": [],
   "source": []
  },
  {
   "cell_type": "code",
   "execution_count": null,
   "id": "1f95bb4b",
   "metadata": {},
   "outputs": [],
   "source": []
  },
  {
   "cell_type": "code",
   "execution_count": null,
   "id": "68b9320d",
   "metadata": {},
   "outputs": [],
   "source": []
  },
  {
   "cell_type": "code",
   "execution_count": null,
   "id": "04252a77",
   "metadata": {},
   "outputs": [],
   "source": []
  },
  {
   "cell_type": "code",
   "execution_count": null,
   "id": "b3759336",
   "metadata": {},
   "outputs": [],
   "source": []
  }
 ],
 "metadata": {
  "kernelspec": {
   "display_name": "Python 3 (ipykernel)",
   "language": "python",
   "name": "python3"
  },
  "language_info": {
   "codemirror_mode": {
    "name": "ipython",
    "version": 3
   },
   "file_extension": ".py",
   "mimetype": "text/x-python",
   "name": "python",
   "nbconvert_exporter": "python",
   "pygments_lexer": "ipython3",
   "version": "3.9.7"
  }
 },
 "nbformat": 4,
 "nbformat_minor": 5
}
